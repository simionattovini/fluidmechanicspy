{
  "nbformat": 4,
  "nbformat_minor": 0,
  "metadata": {
    "colab": {
      "provenance": [],
      "authorship_tag": "ABX9TyPE/Z0hm4HIEyUojhS39U2M",
      "include_colab_link": true
    },
    "kernelspec": {
      "name": "python3",
      "display_name": "Python 3"
    },
    "language_info": {
      "name": "python"
    }
  },
  "cells": [
    {
      "cell_type": "markdown",
      "metadata": {
        "id": "view-in-github",
        "colab_type": "text"
      },
      "source": [
        "<a href=\"https://colab.research.google.com/github/simionattovini/fluidmechanicspy/blob/main/P1_3a.ipynb\" target=\"_parent\"><img src=\"https://colab.research.google.com/assets/colab-badge.svg\" alt=\"Open In Colab\"/></a>"
      ]
    },
    {
      "cell_type": "markdown",
      "source": [
        "# **Robótica Computacional - P1 - Turma de 3a feira**"
      ],
      "metadata": {
        "id": "CHjrrpGBVSP1"
      }
    },
    {
      "cell_type": "code",
      "execution_count": 75,
      "metadata": {
        "colab": {
          "base_uri": "https://localhost:8080/"
        },
        "id": "3bIyydUJVQsu",
        "outputId": "b0b55f67-3437-4d59-fb98-f1b4d4db153f"
      },
      "outputs": [
        {
          "output_type": "stream",
          "name": "stdout",
          "text": [
            "\n",
            " R_I_C = \n",
            "\n",
            " [[ 0.    0.6   0.8 ]\n",
            " [-0.8  -0.48  0.36]\n",
            " [ 0.6  -0.64  0.48]] \n",
            "\n",
            "\n",
            "\n",
            " R_C_I = \n",
            "\n",
            " [[ 0.   -0.8   0.6 ]\n",
            " [ 0.6  -0.48 -0.64]\n",
            " [ 0.8   0.36  0.48]] \n",
            "\n",
            "\n"
          ]
        }
      ],
      "source": [
        "# Item a)\n",
        "\n",
        "import numpy as np\n",
        "\n",
        "def rot_x(angled: float) -> np.ndarray:\n",
        "  cs = np.cos(angled*np.pi/180)\n",
        "  sn = np.sin(angled*np.pi/180)\n",
        "  return np.asarray([[1, 0, 0], [0, cs, sn], [0, -sn, cs]])\n",
        "\n",
        "def rot_z(angled: float) -> np.ndarray:\n",
        "  cs = np.cos(angled*np.pi/180)\n",
        "  sn = np.sin(angled*np.pi/180)\n",
        "  return np.asarray([[cs, sn, 0], [-sn, cs, 0], [0, 0, 1]])\n",
        "\n",
        "def cria_vetor3(v: list[float]) -> np.ndarray:\n",
        "  if len(v) != 3:\n",
        "    raise ValueError('A lista deveria possuir apenas 3 posições')\n",
        "  return np.asarray([v]).T\n",
        "\n",
        "theta_x1 = 53.13\n",
        "R_I_A = rot_x(theta_x1)\n",
        "R_I_A = np.round(R_I_A, decimals=2)\n",
        "\n",
        "theta_z2 = 90\n",
        "R_A_B = rot_z(theta_z2)\n",
        "R_A_B = np.round(R_A_B, decimals=2)\n",
        "\n",
        "theta_x3 = 36.87\n",
        "R_B_C = rot_x(theta_x3)\n",
        "R_B_C = np.round(R_B_C, decimals=2)\n",
        "\n",
        "R_I_C = R_B_C @ R_A_B @ R_I_A\n",
        "R_C_I = R_I_C.T\n",
        "\n",
        "print('\\n R_I_C = \\n\\n', R_I_C, '\\n\\n')\n",
        "print('\\n R_C_I = \\n\\n', R_C_I, '\\n\\n')"
      ]
    },
    {
      "cell_type": "code",
      "source": [
        "# Item b) i.\n",
        "\n",
        "v_c = cria_vetor3([2, -3, 1])\n",
        "v_i = R_I_C @ v_c\n",
        "\n",
        "print(v_i)"
      ],
      "metadata": {
        "colab": {
          "base_uri": "https://localhost:8080/"
        },
        "id": "3BFnEQ50au1v",
        "outputId": "b18520d7-7560-4676-ad1f-102984507261"
      },
      "execution_count": 76,
      "outputs": [
        {
          "output_type": "stream",
          "name": "stdout",
          "text": [
            "[[-1. ]\n",
            " [ 0.2]\n",
            " [ 3.6]]\n"
          ]
        }
      ]
    },
    {
      "cell_type": "code",
      "source": [
        "# Item b) ii.\n",
        "\n",
        "v_b = cria_vetor3([4, 3, -1])\n",
        "v_i = R_I_A.T @ R_A_B.T @ v_b\n",
        "\n",
        "print(v_i)"
      ],
      "metadata": {
        "colab": {
          "base_uri": "https://localhost:8080/"
        },
        "id": "N4DJV2ZJbG_F",
        "outputId": "d43e10da-3cff-4177-989c-f6dceb38b501"
      },
      "execution_count": 77,
      "outputs": [
        {
          "output_type": "stream",
          "name": "stdout",
          "text": [
            "[[-3. ]\n",
            " [ 3.2]\n",
            " [ 2.6]]\n"
          ]
        }
      ]
    },
    {
      "cell_type": "code",
      "source": [
        "# Item b) iii.\n",
        "\n",
        "v_a = cria_vetor3([2, 0, 1])\n",
        "v_b = R_A_B @ v_a\n",
        "\n",
        "print(v_b)"
      ],
      "metadata": {
        "colab": {
          "base_uri": "https://localhost:8080/"
        },
        "id": "yrUwfeQZbmbp",
        "outputId": "55adff30-4d15-4ac2-a569-d41013f7d364"
      },
      "execution_count": 78,
      "outputs": [
        {
          "output_type": "stream",
          "name": "stdout",
          "text": [
            "[[ 0.]\n",
            " [-2.]\n",
            " [ 1.]]\n"
          ]
        }
      ]
    },
    {
      "cell_type": "code",
      "source": [
        "# Item b) iv.\n",
        "\n",
        "v_a = cria_vetor3([0, 1, 1])\n",
        "v_c = R_B_C @ R_A_B @ v_a\n",
        "\n",
        "print(v_c)"
      ],
      "metadata": {
        "colab": {
          "base_uri": "https://localhost:8080/"
        },
        "id": "BZ9vb9xycFHs",
        "outputId": "b615a92e-473e-4827-a725-9aabe1d659a9"
      },
      "execution_count": 79,
      "outputs": [
        {
          "output_type": "stream",
          "name": "stdout",
          "text": [
            "[[1. ]\n",
            " [0.6]\n",
            " [0.8]]\n"
          ]
        }
      ]
    },
    {
      "cell_type": "code",
      "source": [
        "# Item c) i.\n",
        "\n",
        "def norma(v: np.ndarray) -> float:\n",
        "  return np.sqrt(np.vdot(v, v))\n",
        "\n",
        "v_a = cria_vetor3([5, -4, 1])\n",
        "\n",
        "print('A norma do vetor independe da base na qual ele é representado:\\n')\n",
        "print('||v_a|| = ', norma(v_a))\n",
        "print('||v_b|| = ', norma(R_A_B @ v_a), '\\n')\n",
        "print('Portanto:', '||v_a|| = ||v_b|| = ', norma(v_a))"
      ],
      "metadata": {
        "colab": {
          "base_uri": "https://localhost:8080/"
        },
        "id": "l0Jaa9_7cpCt",
        "outputId": "655de9a2-f600-44db-acf4-529069f2c0b7"
      },
      "execution_count": 80,
      "outputs": [
        {
          "output_type": "stream",
          "name": "stdout",
          "text": [
            "A norma do vetor independe da base na qual ele é representado:\n",
            "\n",
            "||v_a|| =  6.48074069840786\n",
            "||v_b|| =  6.48074069840786 \n",
            "\n",
            "Portanto: ||v_a|| = ||v_b|| =  6.48074069840786\n"
          ]
        }
      ]
    },
    {
      "cell_type": "code",
      "source": [
        "# Item c) ii.\n",
        "\n",
        "w_c = cria_vetor3([2, 3, 1])\n",
        "\n",
        "print('A norma do vetor independe da base na qual ele é representado:\\n')\n",
        "print('||w_c|| = ', norma(w_c))\n",
        "print('||w_a|| = ', norma(R_A_B.T @ R_B_C.T @ w_c), '\\n')\n",
        "print('Portanto:', '||w_c|| = ||w_a|| = ', norma(w_c))"
      ],
      "metadata": {
        "colab": {
          "base_uri": "https://localhost:8080/"
        },
        "id": "R9hQIimJedNr",
        "outputId": "6530597f-cbc3-460e-8187-a0fcb7d893f8"
      },
      "execution_count": 81,
      "outputs": [
        {
          "output_type": "stream",
          "name": "stdout",
          "text": [
            "A norma do vetor independe da base na qual ele é representado:\n",
            "\n",
            "||w_c|| =  3.7416573867739413\n",
            "||w_a|| =  3.7416573867739413 \n",
            "\n",
            "Portanto: ||w_c|| = ||w_a|| =  3.7416573867739413\n"
          ]
        }
      ]
    },
    {
      "cell_type": "code",
      "source": [
        "# Item c) iii.\n",
        "\n",
        "def proj(a: np.ndarray, b: np.ndarray) -> np.ndarray:\n",
        "  # Retorna a projeção de a sobre b\n",
        "  return (np.vdot(a, b)/np.vdot(b, b))*b\n",
        "\n",
        "v_a = cria_vetor3([5, -4, 1])\n",
        "w_c = cria_vetor3([2, 3, 1])\n",
        "\n",
        "print('O tamanho da projeção de um vetor sobre o outro é igual em qualquer ' +\n",
        "      'base. Ou seja: \\n')\n",
        "\n",
        "print('||proj(v_a, w_a)|| = ', norma(proj(v_a, R_A_B.T @ R_B_C.T @ w_c)))\n",
        "print('||proj(v_b, w_b)|| = ', norma(proj(R_A_B @ v_a, R_B_C.T @ w_c)))\n",
        "print('||proj(v_c, w_c)|| = ', norma(proj(R_B_C @ R_A_B @ v_a, w_c)), '\\n')\n",
        "\n",
        "print('Portanto: \\n\\n||proj(v_a, w_a)|| = ' +\n",
        "      '||proj(v_b, w_b)|| = ||proj(v_c, w_c)|| = ',\n",
        "      norma(proj(R_A_B @ v_a, R_B_C.T @ w_c)))"
      ],
      "metadata": {
        "colab": {
          "base_uri": "https://localhost:8080/"
        },
        "id": "oMOtjh2cfA1r",
        "outputId": "d63e3017-dcf9-4aba-ae8c-4aaf6e524f98"
      },
      "execution_count": 82,
      "outputs": [
        {
          "output_type": "stream",
          "name": "stdout",
          "text": [
            "O tamanho da projeção de um vetor sobre o outro é igual em qualquer base. Ou seja: \n",
            "\n",
            "||proj(v_a, w_a)|| =  3.8485618835389115\n",
            "||proj(v_b, w_b)|| =  3.8485618835389115\n",
            "||proj(v_c, w_c)|| =  3.848561883538911 \n",
            "\n",
            "Portanto: \n",
            "\n",
            "||proj(v_a, w_a)|| = ||proj(v_b, w_b)|| = ||proj(v_c, w_c)|| =  3.8485618835389115\n"
          ]
        }
      ]
    },
    {
      "cell_type": "code",
      "source": [
        "# Item c) iv.\n",
        "\n",
        "def ang_vetor(a: np.ndarray, b: np.ndarray) -> float:\n",
        "  return np.arccos(np.vdot(a, b)/(norma(a)*norma(b)))*180/np.pi\n",
        "\n",
        "v_a = cria_vetor3([5, -4, 1])\n",
        "w_c = cria_vetor3([2, 3, 1])\n",
        "\n",
        "\n",
        "print('O ângulo entre dois vetores é o mesmo em qualquer base: \\n')\n",
        "\n",
        "print('ang_vetor(v_a, w_a) = ', ang_vetor(v_a, R_A_B.T @ R_B_C.T @ w_c), '°')\n",
        "print('ang_vetor(v_b, w_b) = ', ang_vetor(R_A_B @ v_a, R_B_C.T @ w_c), '°')\n",
        "print('ang_vetor(v_c, w_c) = ', ang_vetor(R_B_C @ R_A_B @ v_a, w_c), '° \\n')\n",
        "\n",
        "print('Portanto: \\n')\n",
        "print('ang_vetor(v_a, w_a) = ang_vetor(v_b, w_b) = ang_vetor(v_c, w_c) = ',\n",
        "      ang_vetor(v_a, R_A_B.T @ R_B_C.T @ w_c), '°')\n"
      ],
      "metadata": {
        "colab": {
          "base_uri": "https://localhost:8080/"
        },
        "id": "08l0NEJmhx_E",
        "outputId": "a7a6249d-8579-415e-9a71-546b094f250c"
      },
      "execution_count": 84,
      "outputs": [
        {
          "output_type": "stream",
          "name": "stdout",
          "text": [
            "O ângulo entre dois vetores é o mesmo em qualquer base: \n",
            "\n",
            "ang_vetor(v_a, w_a) =  126.43040907851538 °\n",
            "ang_vetor(v_b, w_b) =  126.43040907851538 °\n",
            "ang_vetor(v_c, w_c) =  126.43040907851538 ° \n",
            "\n",
            "Portanto: \n",
            "\n",
            "ang_vetor(v_a, w_a) = ang_vetor(v_b, w_b) = ang_vetor(v_c, w_c) =  126.43040907851538 °\n"
          ]
        }
      ]
    }
  ]
}